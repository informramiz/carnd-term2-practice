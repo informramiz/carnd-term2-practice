{
 "cells": [
  {
   "cell_type": "markdown",
   "metadata": {},
   "source": [
    "# Kalman Filter"
   ]
  },
  {
   "cell_type": "markdown",
   "metadata": {},
   "source": [
    "## Guassian"
   ]
  },
  {
   "cell_type": "code",
   "execution_count": 11,
   "metadata": {
    "collapsed": false
   },
   "outputs": [
    {
     "name": "stdout",
     "output_type": "stream",
     "text": [
      "0.14104739588693907\n"
     ]
    }
   ],
   "source": [
    "from math import *\n",
    "def f(mu, sigma2, x):\n",
    "    return (1/sqrt(2*pi*sigma2)) * exp(-0.5 * (x-mu)**2/sigma2)\n",
    "\n",
    "print(f(10., 8., 10.))"
   ]
  },
  {
   "cell_type": "markdown",
   "metadata": {},
   "source": [
    "## Calculate New Mean and Variance (Measurement Update)"
   ]
  },
  {
   "cell_type": "code",
   "execution_count": 12,
   "metadata": {
    "collapsed": false
   },
   "outputs": [
    {
     "name": "stdout",
     "output_type": "stream",
     "text": [
      "[12.4, 1.6]\n"
     ]
    }
   ],
   "source": [
    "#program to update your mean and variance\n",
    "# when given the mean and variance of your belief\n",
    "# and the mean and variance of your measurement.\n",
    "# This program will update the parameters of your\n",
    "# belief function.\n",
    "def update(mean1, var1, mean2, var2):\n",
    "    new_mean = (1/(var1 + var2)) * (mean1*var2 + mean2*var1)\n",
    "    new_variance = 1/(1/var1 + 1/var2)\n",
    "    \n",
    "    return [new_mean, new_variance]\n",
    "\n",
    "print(update(10., 8., 13., 2.))"
   ]
  },
  {
   "cell_type": "code",
   "execution_count": null,
   "metadata": {
    "collapsed": true
   },
   "outputs": [],
   "source": []
  }
 ],
 "metadata": {
  "kernelspec": {
   "display_name": "Python 3",
   "language": "python",
   "name": "python3"
  },
  "language_info": {
   "codemirror_mode": {
    "name": "ipython",
    "version": 3
   },
   "file_extension": ".py",
   "mimetype": "text/x-python",
   "name": "python",
   "nbconvert_exporter": "python",
   "pygments_lexer": "ipython3",
   "version": "3.5.2"
  },
  "widgets": {
   "state": {},
   "version": "1.1.2"
  }
 },
 "nbformat": 4,
 "nbformat_minor": 2
}
