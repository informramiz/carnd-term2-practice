{
 "cells": [
  {
   "cell_type": "markdown",
   "metadata": {},
   "source": [
    "# Kalman Filter"
   ]
  },
  {
   "cell_type": "markdown",
   "metadata": {},
   "source": [
    "## Guassian"
   ]
  },
  {
   "cell_type": "code",
   "execution_count": 11,
   "metadata": {
    "collapsed": false
   },
   "outputs": [
    {
     "name": "stdout",
     "output_type": "stream",
     "text": [
      "0.14104739588693907\n"
     ]
    }
   ],
   "source": [
    "from math import *\n",
    "def f(mu, sigma2, x):\n",
    "    return (1/sqrt(2*pi*sigma2)) * exp(-0.5 * (x-mu)**2/sigma2)\n",
    "\n",
    "print(f(10., 8., 10.))"
   ]
  },
  {
   "cell_type": "markdown",
   "metadata": {},
   "source": [
    "## Calculate New Mean and Variance (Measurement Update)"
   ]
  },
  {
   "cell_type": "code",
   "execution_count": 12,
   "metadata": {
    "collapsed": false
   },
   "outputs": [
    {
     "name": "stdout",
     "output_type": "stream",
     "text": [
      "[12.4, 1.6]\n"
     ]
    }
   ],
   "source": [
    "#program to update your mean and variance\n",
    "# when given the mean and variance of your belief\n",
    "# and the mean and variance of your measurement.\n",
    "# This program will update the parameters of your\n",
    "# belief function.\n",
    "def update(mean1, var1, mean2, var2):\n",
    "    new_mean = (1/(var1 + var2)) * (mean1*var2 + mean2*var1)\n",
    "    new_variance = 1/(1/var1 + 1/var2)\n",
    "    \n",
    "    return [new_mean, new_variance]"
   ]
  },
  {
   "cell_type": "code",
   "execution_count": 13,
   "metadata": {
    "collapsed": false
   },
   "outputs": [
    {
     "name": "stdout",
     "output_type": "stream",
     "text": [
      "[12.4, 1.6]\n"
     ]
    }
   ],
   "source": [
    "print(update(10., 8., 13., 2.))"
   ]
  },
  {
   "cell_type": "code",
   "execution_count": 14,
   "metadata": {
    "collapsed": true
   },
   "outputs": [],
   "source": [
    "#a program that will predict your new mean\n",
    "# and variance given the mean and variance of your \n",
    "# prior belief and the mean and variance of your \n",
    "# motion. \n",
    "#====Motion update\n",
    "def predict(mean1, var1, mean2, var2):\n",
    "    new_mean = mean1 + mean2\n",
    "    new_var = var1 + var2\n",
    "    \n",
    "    return [new_mean, new_var]"
   ]
  },
  {
   "cell_type": "code",
   "execution_count": 15,
   "metadata": {
    "collapsed": false
   },
   "outputs": [
    {
     "name": "stdout",
     "output_type": "stream",
     "text": [
      "[22.0, 8.0]\n"
     ]
    }
   ],
   "source": [
    "print(predict(10., 4., 12., 4.))"
   ]
  },
  {
   "cell_type": "code",
   "execution_count": 16,
   "metadata": {
    "collapsed": false
   },
   "outputs": [
    {
     "name": "stdout",
     "output_type": "stream",
     "text": [
      "4.998000799680128 3.9984006397441023\n",
      "5.998000799680128 5.998400639744102\n",
      "5.999200191953931 2.399744061425258\n",
      "6.999200191953931 4.399744061425258\n",
      "6.999619127420921 2.0951800575117594\n",
      "8.999619127420921 4.09518005751176\n",
      "8.999811802788143 2.0235152416216957\n",
      "9.999811802788143 4.023515241621696\n",
      "9.999906177177365 2.0058615808441944\n",
      "10.999906177177365 4.005861580844194\n",
      "10.999906177177365 4.005861580844194\n"
     ]
    }
   ],
   "source": [
    "#a program that will iteratively update and\n",
    "# predict based on the location measurements \n",
    "# and inferred motions shown below. \n",
    "\n",
    "#below are means for measurements taken and inferred motions\n",
    "measurements = [5., 6., 7., 9., 10.]\n",
    "motion = [1., 1., 2., 1., 1.]\n",
    "#let's say sigma/variance (uncertainty) is constant for every meaurement and motion update\n",
    "measurement_sig = 4.\n",
    "motion_sig = 2.\n",
    "#initial mean and variance\n",
    "mu = 0.\n",
    "sig = 10000.\n",
    "\n",
    "for i in range(len(measurements)):\n",
    "    mu, sig = update(mu, sig, measurements[i], measurement_sig)\n",
    "    print(mu, sig)\n",
    "    mu, sig = predict(mu, sig, motion[i], motion_sig)\n",
    "    print(mu, sig)\n",
    "    "
   ]
  },
  {
   "cell_type": "code",
   "execution_count": null,
   "metadata": {
    "collapsed": true
   },
   "outputs": [],
   "source": []
  }
 ],
 "metadata": {
  "kernelspec": {
   "display_name": "Python 3",
   "language": "python",
   "name": "python3"
  },
  "language_info": {
   "codemirror_mode": {
    "name": "ipython",
    "version": 3
   },
   "file_extension": ".py",
   "mimetype": "text/x-python",
   "name": "python",
   "nbconvert_exporter": "python",
   "pygments_lexer": "ipython3",
   "version": "3.5.2"
  },
  "widgets": {
   "state": {},
   "version": "1.1.2"
  }
 },
 "nbformat": 4,
 "nbformat_minor": 2
}
